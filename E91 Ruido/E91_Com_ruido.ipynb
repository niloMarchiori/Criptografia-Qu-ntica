{
  "cells": [
    {
      "cell_type": "markdown",
      "metadata": {
        "id": "JGac6cFfpl-r"
      },
      "source": [
        "#Bibliotecas"
      ]
    },
    {
      "cell_type": "markdown",
      "metadata": {
        "id": "w65A-V_t8u10"
      },
      "source": [
        "##Instalação"
      ]
    },
    {
      "cell_type": "code",
      "execution_count": 1,
      "metadata": {
        "id": "ktJcPjVC885c"
      },
      "outputs": [],
      "source": [
        "# Caso precise intalar as bibliotecas\n",
        "# !pip install qiskit\n",
        "# !pip install qiskit-aer\n",
        "# !pip install qiskit-ibm-runtime\n",
        "# !pip install qiskit-ibmq-provider\n",
        "# !pip install pylatexenc\n",
        "\n"
      ]
    },
    {
      "cell_type": "markdown",
      "metadata": {
        "id": "LCs4ePqd81ZE"
      },
      "source": [
        "##Importação"
      ]
    },
    {
      "cell_type": "code",
      "execution_count": 3,
      "metadata": {
        "id": "YvVgZB_n9BDm"
      },
      "outputs": [],
      "source": [
        "from qiskit_ibm_runtime import QiskitRuntimeService\n",
        "\n",
        "from qiskit import QuantumCircuit, Aer, transpile, execute\n",
        "from qiskit.compiler import transpile\n",
        "from qiskit_ibm_provider import IBMProvider\n",
        "from qiskit.visualization import plot_histogram, plot_bloch_multivector\n",
        "from qiskit.quantum_info.operators import Operator, Pauli\n",
        "from qiskit.result import Result\n",
        "\n",
        "from numpy import pi, sin, cos, array, dot, outer, transpose, conjugate, delete, sum\n",
        "from numpy.random import randint\n",
        "from numpy.linalg import eigh\n",
        "\n",
        "import matplotlib.pyplot as plt\n",
        "import matplotlib as mpl\n",
        "\n",
        "import json\n",
        "from datetime import datetime"
      ]
    },
    {
      "cell_type": "markdown",
      "metadata": {
        "id": "HfLUqcMQfU_j"
      },
      "source": [
        "###API"
      ]
    },
    {
      "cell_type": "code",
      "execution_count": null,
      "metadata": {
        "id": "LSD7Tyf7ce8_"
      },
      "outputs": [],
      "source": [
        "# Mudo o <IBM TOKEN> pelo IBM token (disponível em seu perfil da plataforma)\n",
        "provider = IBMProvider(token='<IBM TOKEN>')\n",
        "backends = provider.backends()"
      ]
    },
    {
      "cell_type": "markdown",
      "metadata": {
        "id": "drlE9aaWfayA"
      },
      "source": [
        "#Código"
      ]
    },
    {
      "cell_type": "code",
      "execution_count": 4,
      "metadata": {
        "id": "Fk34cT6v8Lkn"
      },
      "outputs": [],
      "source": [
        "def criar_EPR(mensagem,qbit1=0, qbit2=1):\n",
        "  for i in range(len(mensagem)):\n",
        "    mensagem[i].h(0)\n",
        "    mensagem[i].x(1)\n",
        "    mensagem[i].cx(0,1)\n",
        "    mensagem[i].z(1)"
      ]
    },
    {
      "cell_type": "code",
      "execution_count": 9,
      "metadata": {
        "id": "DDc9PUpX8PX_"
      },
      "outputs": [],
      "source": [
        "def obter_rotacoes(vetores):\n",
        "  Px=Operator(Pauli('Z'))\n",
        "  Py=Operator(Pauli('X'))\n",
        "  Pz=Operator(Pauli('Y'))\n",
        "\n",
        "  rotacoes=[]\n",
        "\n",
        "  for i in range(len(vetores)):\n",
        "    ket0=[1,0]\n",
        "    ket1=[0,1]\n",
        "\n",
        "    theta=vetores[i][0]\n",
        "    phi=vetores[i][1]\n",
        "\n",
        "    sigma=sin(theta)*cos(phi)*Px+sin(phi)*sin(theta)*Py+cos(theta)*Pz\n",
        "    autovalor,autovetor=eigh(sigma)\n",
        "    v0=autovetor[:,1]\n",
        "    v1=autovetor[:,0]\n",
        "    brav0=conjugate(v0).transpose()\n",
        "    brav1=conjugate(v1).transpose()\n",
        "\n",
        "    ket0=[1,0]\n",
        "    ket1=[0,1]\n",
        "\n",
        "    operador= outer(ket0,brav0) +outer(ket1,brav1)\n",
        "    rotacoes.append(operador)\n",
        "\n",
        "\n",
        "  return rotacoes"
      ]
    },
    {
      "cell_type": "code",
      "execution_count": 6,
      "metadata": {
        "id": "oxgL-L648RMg"
      },
      "outputs": [],
      "source": [
        "def medir_qbit(mensagem,escolhas, operadores, qbit, cbit, text='Op'):\n",
        "  for i in range(len(mensagem)):\n",
        "    rotacao=operadores[escolhas[i]]\n",
        "    mensagem[i].barrier()\n",
        "    mensagem[i].unitary(rotacao,[qbit], label='$'+text+str(escolhas[i])+'$')\n",
        "    mensagem[i].measure(qbit,cbit)"
      ]
    },
    {
      "cell_type": "code",
      "execution_count": 10,
      "metadata": {
        "id": "MyMzzArb8XnY"
      },
      "outputs": [],
      "source": [
        "for k in range(5):\n",
        "    # Determinação das diferentes direções que alice projetará o spin\n",
        "    a1=[pi/2,0]\n",
        "    a2=[pi/2,pi/4]\n",
        "    a3=[pi/2,pi/2]\n",
        "    vetores_alice=[a1,a2,a3]\n",
        "    operador_alice=obter_rotacoes(vetores_alice)\n",
        "\n",
        "    # Determinação das diferentes direções que alice projetará o spin\n",
        "    b1=[pi/2,pi/4]\n",
        "    b2=[pi/2,pi/2]\n",
        "    b3=[pi/2,3*pi/4]\n",
        "    vetores_bob=[b1,b2,b3]\n",
        "    operador_bob=obter_rotacoes(vetores_bob)\n",
        "\n",
        "\n",
        "    # ------------------------Etapa 1---------------------------------\n",
        "    n=9\n",
        "    mensagem=[]\n",
        "    for i in range(n):\n",
        "      qc=QuantumCircuit(2,2)\n",
        "      mensagem.append(qc)\n",
        "\n",
        "    criar_EPR(mensagem) #Criação dos n pares emaranhados\n",
        "\n",
        "    # ------------------------Etapa 2---------------------------------\n",
        "    escolhas_alice=[0,1,2,   0,1,2,   0,1,2]\n",
        "    escolhas_bob=  [0,1,2,   1,2,0,   2,0,1]\n",
        "\n",
        "    medir_qbit(mensagem, escolhas_alice, operador_alice, qbit=0,cbit=0,text='A(a_') #Alcie realiza a projeção\n",
        "    medir_qbit(mensagem, escolhas_bob, operador_bob, qbit=1,cbit=1,text='B(b_') #Bob realiza a projeção\n",
        "\n",
        "    mensagem=transpile(mensagem)\n",
        "\n",
        "    # Escolha um dos backends tirando o comentário de uma das linhas abaixo\n",
        "    # backend = provider.get_backend('ibm_kyoto')\n",
        "    # backend = provider.get_backend('ibm_brisbane')\n",
        "    backend = Aer.get_backend('qasm_simulator')\n",
        "\n",
        "    shots=2000\n",
        "    result = execute(mensagem, backend, shots=shots).result()\n",
        "\n",
        "    # Como geralmente o tempo de fila é longo, aconselho baixar os dados diretamente da sessão jobs da plataforma IBM Quantum\n",
        "\n",
        "    counts = result.get_counts()\n",
        "\n"
      ]
    },
    {
      "cell_type": "code",
      "execution_count": 14,
      "metadata": {
        "colab": {
          "base_uri": "https://localhost:8080/"
        },
        "id": "UkRwmGaCK57W",
        "outputId": "959c4ae9-66be-4b8c-9301-9fad28aafe55"
      },
      "outputs": [
        {
          "name": "stdout",
          "output_type": "stream",
          "text": [
            "-2.099\n",
            "-1.9080000000000001\n",
            "-1.9000000000000001\n",
            "-1.967\n",
            "-1.979\n"
          ]
        }
      ],
      "source": [
        "#Imprime os valores de S para ibm_brisbane\n",
        "for i in range(1,6):\n",
        "    caminho_arquivo_json = f'dados brisbane/brisbane_{i}.txt'\n",
        "\n",
        "    # Carregue os dados do arquivo JSON\n",
        "    with open(caminho_arquivo_json, 'r') as arquivo_json:\n",
        "        dados_json = json.load(arquivo_json)\n",
        "\n",
        "    # Crie um objeto Result do Qiskit usando os dados carregados\n",
        "    resultado_qiskit = Result.from_dict(dados_json)\n",
        "\n",
        "    # Obtenha as contagens usando get_counts()\n",
        "    counts = resultado_qiskit.get_counts()\n",
        "\n",
        "    # Exiba as contagens\n",
        "    E11=(counts[0]['00']+counts[0]['11']-counts[0]['10']-counts[0]['01'])/shots\n",
        "    E33=(counts[2]['00']+counts[2]['11']-counts[2]['10']-counts[2]['01'])/shots\n",
        "    E31=(counts[5]['00']+counts[5]['11']-counts[5]['10']-counts[5]['01'])/shots\n",
        "    E13=(counts[6]['00']+counts[6]['11']-counts[6]['10']-counts[6]['01'])/shots\n",
        "\n",
        "\n",
        "    S=E11-E13+E31+E33\n",
        "    print(S)\n"
      ]
    },
    {
      "cell_type": "code",
      "execution_count": 15,
      "metadata": {
        "colab": {
          "base_uri": "https://localhost:8080/"
        },
        "id": "d0Y-TBcyF0Uz",
        "outputId": "78939c5e-1f13-4123-caaf-16580fc741a0"
      },
      "outputs": [
        {
          "name": "stdout",
          "output_type": "stream",
          "text": [
            "-1.133\n",
            "-1.175\n",
            "-1.157\n",
            "-1.229\n",
            "-1.1219999999999999\n"
          ]
        }
      ],
      "source": [
        "#Imprime os valores de S para ibm_kyoto\n",
        "for i in range(1,6):\n",
        "    caminho_arquivo_json = f'dados kyoto/kyoto_{i}.txt'\n",
        "\n",
        "    # Carregue os dados do arquivo JSON\n",
        "    with open(caminho_arquivo_json, 'r') as arquivo_json:\n",
        "        dados_json = json.load(arquivo_json)\n",
        "\n",
        "    # Crie um objeto Result do Qiskit usando os dados carregados\n",
        "    resultado_qiskit = Result.from_dict(dados_json)\n",
        "\n",
        "    # Obtenha as contagens usando get_counts()\n",
        "    counts = resultado_qiskit.get_counts()\n",
        "\n",
        "    # Exiba as contagens\n",
        "    E11=(counts[0]['00']+counts[0]['11']-counts[0]['10']-counts[0]['01'])/shots\n",
        "    E33=(counts[2]['00']+counts[2]['11']-counts[2]['10']-counts[2]['01'])/shots\n",
        "    E31=(counts[5]['00']+counts[5]['11']-counts[5]['10']-counts[5]['01'])/shots\n",
        "    E13=(counts[6]['00']+counts[6]['11']-counts[6]['10']-counts[6]['01'])/shots\n",
        "\n",
        "\n",
        "    S=E11-E13+E31+E33\n",
        "    print(S)"
      ]
    },
    {
      "cell_type": "code",
      "execution_count": null,
      "metadata": {
        "id": "JtVzVmC4I6bU"
      },
      "outputs": [],
      "source": []
    }
  ],
  "metadata": {
    "colab": {
      "collapsed_sections": [
        "w65A-V_t8u10"
      ],
      "provenance": []
    },
    "kernelspec": {
      "display_name": "Python 3",
      "name": "python3"
    },
    "language_info": {
      "codemirror_mode": {
        "name": "ipython",
        "version": 3
      },
      "file_extension": ".py",
      "mimetype": "text/x-python",
      "name": "python",
      "nbconvert_exporter": "python",
      "pygments_lexer": "ipython3",
      "version": "3.10.11"
    }
  },
  "nbformat": 4,
  "nbformat_minor": 0
}
